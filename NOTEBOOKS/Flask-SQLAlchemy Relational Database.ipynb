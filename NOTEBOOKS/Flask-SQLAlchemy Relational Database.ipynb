{
 "cells": [
  {
   "cell_type": "markdown",
   "id": "0088b12a",
   "metadata": {},
   "source": [
    "# Flask-SQLAlchemy Relational Database"
   ]
  },
  {
   "cell_type": "markdown",
   "id": "f4a99db6",
   "metadata": {},
   "source": [
    "## Ensure that the flask app is running first."
   ]
  },
  {
   "cell_type": "markdown",
   "id": "f5c78a4a",
   "metadata": {},
   "source": [
    "## Import the database and table classes from main.py\n",
    "Add the project path to sys.path so that it knows where main.py is."
   ]
  },
  {
   "cell_type": "code",
   "execution_count": 1,
   "id": "720f24e7",
   "metadata": {},
   "outputs": [],
   "source": [
    "import sys\n",
    "sys.path.insert(1, 'E:\\Python\\Projects\\day-69_blog_with_users')\n",
    "from main import db, User, BlogPost, Comment, login_manager, app\n",
    "from datetime import date\n",
    "from flask_login import login_user, current_user, logout_user\n"
   ]
  },
  {
   "cell_type": "markdown",
   "id": "a2164a30",
   "metadata": {},
   "source": [
    "## Table Definitions\n",
    "For reference\n",
    "\n",
    "```\n",
    "class User(UserMixin, db.Model):\n",
    "    __tablename__ = \"users\"\n",
    "    id = db.Column(db.Integer, primary_key=True)\n",
    "    email = db.Column(db.String(100), unique=True, nullable=False)\n",
    "    password = db.Column(db.String(1000), nullable=False)\n",
    "    name = db.Column(db.String(100), nullable=False)\n",
    "    posts = db.relationship('BlogPost', back_populates='author')  # refers to the child\n",
    "    comments = db.relationship('Comment', back_populates='commenter')  # refers to the child\n",
    "    \n",
    "class BlogPost(db.Model):\n",
    "    __tablename__ = \"blog_posts\"\n",
    "    id = db.Column(db.Integer, primary_key=True)\n",
    "    title = db.Column(db.String(250), unique=True, nullable=False)\n",
    "    subtitle = db.Column(db.String(250), nullable=False)\n",
    "    date = db.Column(db.String(250), nullable=False)\n",
    "    body = db.Column(db.Text, nullable=False)\n",
    "    img_url = db.Column(db.String(250), nullable=False)\n",
    "    author_id = db.Column(db.Integer, db.ForeignKey('users.id'), nullable=False)\n",
    "    author = db.relationship('User', back_populates='posts')  # refers to the parent\n",
    "    comments = db.relationship('Comment', back_populates='post')  # refers to the child\n",
    "    \n",
    "class Comment(db.Model):\n",
    "    __tablename__ = \"comments\"\n",
    "    id = db.Column(db.Integer, primary_key=True)\n",
    "    body = db.Column(db.Text, nullable=False)\n",
    "    date = db.Column(db.String(250), nullable=False)\n",
    "    post_id = db.Column(db.Integer, db.ForeignKey('blog_posts.id'), nullable=False)\n",
    "    post = db.relationship('BlogPost', back_populates='comments')  # refers to the parent\n",
    "    commenter_id = db.Column(db.Integer, db.ForeignKey('users.id'), nullable=False)\n",
    "    commenter = db.relationship('User', back_populates='comments')  # refers to the parent\n",
    "```"
   ]
  },
  {
   "cell_type": "markdown",
   "id": "90571f40",
   "metadata": {},
   "source": [
    "## Create two new users"
   ]
  },
  {
   "cell_type": "code",
   "execution_count": null,
   "id": "127929b5",
   "metadata": {
    "scrolled": true
   },
   "outputs": [],
   "source": [
    "new_user = User(\n",
    "    email=\"user3@ex.com\",\n",
    "    password=\"user3\",\n",
    "    name=\"User3\",\n",
    ")\n",
    "db.session.add(new_user)\n",
    "db.session.commit()"
   ]
  },
  {
   "cell_type": "code",
   "execution_count": null,
   "id": "1de96708",
   "metadata": {},
   "outputs": [],
   "source": [
    "new_user = User(\n",
    "    email=\"user4@ex.com\",\n",
    "    password=\"user4\",\n",
    "    name=\"User4\",\n",
    ")\n",
    "db.session.add(new_user)\n",
    "db.session.commit()"
   ]
  },
  {
   "cell_type": "markdown",
   "id": "accf51ca",
   "metadata": {},
   "source": [
    "## Add a post"
   ]
  },
  {
   "cell_type": "code",
   "execution_count": 2,
   "id": "3727413c",
   "metadata": {},
   "outputs": [],
   "source": [
    "new_post = BlogPost(\n",
    "    title=\"Death of Fantasy\",\n",
    "    subtitle=\"Who knew that cacti lived such interesting lives.\",\n",
    "    body=\"Nori grape silver beet broccoli kombu beet greens fava bean potato quandong celery. \\\n",
    "        Bunya nuts black-eyed pea prairie turnip leek lentil turnip greens parsnip. \\\n",
    "        Sea lettuce lettuce water chestnut eggplant winter purslane fennel azuki bean earthnut \\\n",
    "        pea sierra leone bologi leek soko chicory celtuce parsley jicama salsify.\",\n",
    "    img_url=\"https://images.unsplash.com/photo-1530482054429-cc491f61333b?ixlib=rb-1.2.1&ixid=eyJhcHBfaWQiOjEyMDd9&auto=format&fit=crop&w=1651&q=80\",\n",
    "    author=User.query.filter_by(id=4).first(),\n",
    "    date=date.today().strftime(\"%d/%b/%Y\")\n",
    ")\n",
    "db.session.add(new_post)\n",
    "db.session.commit()\n"
   ]
  },
  {
   "cell_type": "markdown",
   "id": "86c55000",
   "metadata": {},
   "source": [
    "## Add a comment"
   ]
  },
  {
   "cell_type": "code",
   "execution_count": 5,
   "id": "7c7621b5",
   "metadata": {},
   "outputs": [],
   "source": [
    "new_comment = Comment(\n",
    "    body=\"Damn good show!\",\n",
    "    post=BlogPost.query.filter_by(id=2).first(),\n",
    "    commenter=User.query.filter_by(id=3).first(),\n",
    "    date=date.today().strftime(\"%d/%b/%Y\"),\n",
    ")\n",
    "db.session.add(new_comment)\n",
    "db.session.commit()"
   ]
  },
  {
   "cell_type": "code",
   "execution_count": null,
   "id": "5d972fbf",
   "metadata": {},
   "outputs": [],
   "source": []
  },
  {
   "cell_type": "code",
   "execution_count": null,
   "id": "dc0d054b",
   "metadata": {},
   "outputs": [],
   "source": []
  },
  {
   "cell_type": "code",
   "execution_count": null,
   "id": "f010be5a",
   "metadata": {},
   "outputs": [],
   "source": []
  }
 ],
 "metadata": {
  "kernelspec": {
   "display_name": "Python 3",
   "language": "python",
   "name": "python3"
  },
  "language_info": {
   "codemirror_mode": {
    "name": "ipython",
    "version": 3
   },
   "file_extension": ".py",
   "mimetype": "text/x-python",
   "name": "python",
   "nbconvert_exporter": "python",
   "pygments_lexer": "ipython3",
   "version": "3.9.2"
  }
 },
 "nbformat": 4,
 "nbformat_minor": 5
}
